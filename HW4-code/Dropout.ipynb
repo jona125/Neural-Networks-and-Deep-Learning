{
 "cells": [
  {
   "cell_type": "markdown",
   "metadata": {},
   "source": [
    "# Dropout\n",
    "\n",
    "In this notebook, you will implement dropout.  Then we will ask you to train a network with batchnorm and dropout, and acheive over 55% accuracy on CIFAR-10.\n",
    "\n",
    "CS231n has built a solid API for building these modular frameworks and training them, and we will use their very well implemented framework as opposed to \"reinventing the wheel.\"  This includes using their Solver, various utility functions, and their layer structure.  This also includes nndl.fc_net, nndl.layers, and nndl.layer_utils.  As in prior assignments, we thank Serena Yeung & Justin Johnson for permission to use code written for the CS 231n class (cs231n.stanford.edu).  "
   ]
  },
  {
   "cell_type": "code",
   "execution_count": 1,
   "metadata": {},
   "outputs": [],
   "source": [
    "## Import and setups\n",
    "\n",
    "import time\n",
    "import numpy as np\n",
    "import matplotlib.pyplot as plt\n",
    "from nndl.fc_net import *\n",
    "from nndl.layers import *\n",
    "from cs231n.data_utils import get_CIFAR10_data\n",
    "from cs231n.gradient_check import eval_numerical_gradient, eval_numerical_gradient_array\n",
    "from cs231n.solver import Solver\n",
    "\n",
    "%matplotlib inline\n",
    "plt.rcParams['figure.figsize'] = (10.0, 8.0) # set default size of plots\n",
    "plt.rcParams['image.interpolation'] = 'nearest'\n",
    "plt.rcParams['image.cmap'] = 'gray'\n",
    "\n",
    "# for auto-reloading external modules\n",
    "# see http://stackoverflow.com/questions/1907993/autoreload-of-modules-in-ipython\n",
    "%load_ext autoreload\n",
    "%autoreload 2\n",
    "\n",
    "def rel_error(x, y):\n",
    "  \"\"\" returns relative error \"\"\"\n",
    "  return np.max(np.abs(x - y) / (np.maximum(1e-8, np.abs(x) + np.abs(y))))"
   ]
  },
  {
   "cell_type": "code",
   "execution_count": 2,
   "metadata": {},
   "outputs": [
    {
     "name": "stdout",
     "output_type": "stream",
     "text": [
      "X_train: (49000, 3, 32, 32) \n",
      "y_train: (49000,) \n",
      "X_val: (1000, 3, 32, 32) \n",
      "y_val: (1000,) \n",
      "X_test: (1000, 3, 32, 32) \n",
      "y_test: (1000,) \n"
     ]
    }
   ],
   "source": [
    "# Load the (preprocessed) CIFAR10 data.\n",
    "\n",
    "data = get_CIFAR10_data()\n",
    "for k in data.keys():\n",
    "  print('{}: {} '.format(k, data[k].shape))"
   ]
  },
  {
   "cell_type": "markdown",
   "metadata": {},
   "source": [
    "## Dropout forward pass\n",
    "\n",
    "Implement the training and test time dropout forward pass, `dropout_forward`, in `nndl/layers.py`. After that, test your implementation by running the following cell."
   ]
  },
  {
   "cell_type": "code",
   "execution_count": 3,
   "metadata": {},
   "outputs": [
    {
     "name": "stdout",
     "output_type": "stream",
     "text": [
      "Running tests with p =  0.3\n",
      "Mean of input:  9.998821555175194\n",
      "Mean of train-time output:  9.998152942395887\n",
      "Mean of test-time output:  9.998821555175194\n",
      "Fraction of train-time output set to zero:  0.699916\n",
      "Fraction of test-time output set to zero:  0.0\n",
      "Running tests with p =  0.6\n",
      "Mean of input:  9.998821555175194\n",
      "Mean of train-time output:  9.99687326207575\n",
      "Mean of test-time output:  9.998821555175194\n",
      "Fraction of train-time output set to zero:  0.400044\n",
      "Fraction of test-time output set to zero:  0.0\n",
      "Running tests with p =  0.75\n",
      "Mean of input:  9.998821555175194\n",
      "Mean of train-time output:  10.014399455238639\n",
      "Mean of test-time output:  9.998821555175194\n",
      "Fraction of train-time output set to zero:  0.248896\n",
      "Fraction of test-time output set to zero:  0.0\n"
     ]
    }
   ],
   "source": [
    "x = np.random.randn(500, 500) + 10\n",
    "\n",
    "for p in [0.3, 0.6, 0.75]:\n",
    "  out, _ = dropout_forward(x, {'mode': 'train', 'p': p})\n",
    "  out_test, _ = dropout_forward(x, {'mode': 'test', 'p': p})\n",
    "\n",
    "  print('Running tests with p = ', p)\n",
    "  print('Mean of input: ', x.mean())\n",
    "  print('Mean of train-time output: ', out.mean())\n",
    "  print('Mean of test-time output: ', out_test.mean())\n",
    "  print('Fraction of train-time output set to zero: ', (out == 0).mean())\n",
    "  print('Fraction of test-time output set to zero: ', (out_test == 0).mean())"
   ]
  },
  {
   "cell_type": "markdown",
   "metadata": {},
   "source": [
    "## Dropout backward pass\n",
    "\n",
    "Implement the backward pass, `dropout_backward`, in `nndl/layers.py`.  After that, test your gradients by running the following cell:"
   ]
  },
  {
   "cell_type": "code",
   "execution_count": 4,
   "metadata": {},
   "outputs": [
    {
     "name": "stdout",
     "output_type": "stream",
     "text": [
      "dx relative error:  5.445610702965805e-11\n"
     ]
    }
   ],
   "source": [
    "x = np.random.randn(10, 10) + 10\n",
    "dout = np.random.randn(*x.shape)\n",
    "\n",
    "dropout_param = {'mode': 'train', 'p': 0.8, 'seed': 123}\n",
    "out, cache = dropout_forward(x, dropout_param)\n",
    "dx = dropout_backward(dout, cache)\n",
    "dx_num = eval_numerical_gradient_array(lambda xx: dropout_forward(xx, dropout_param)[0], x, dout)\n",
    "\n",
    "print('dx relative error: ', rel_error(dx, dx_num))"
   ]
  },
  {
   "cell_type": "markdown",
   "metadata": {},
   "source": [
    "## Implement a fully connected neural network with dropout layers\n",
    "\n",
    "Modify the `FullyConnectedNet()` class in `nndl/fc_net.py` to incorporate dropout.  A dropout layer should be incorporated after every ReLU layer.  Concretely, there shouldn't be a dropout at the output layer since there is no ReLU at the output layer. You will need to modify the class in the following areas:\n",
    "\n",
    "(1) In the forward pass, you will need to incorporate a dropout layer after every relu layer.\n",
    "\n",
    "(2) In the backward pass, you will need to incorporate a dropout backward pass layer.\n",
    "\n",
    "Check your implementation by running the following code.  Our W1 gradient relative error is on the order of 1e-6 (the largest of all the relative errors)."
   ]
  },
  {
   "cell_type": "code",
   "execution_count": 5,
   "metadata": {},
   "outputs": [
    {
     "name": "stdout",
     "output_type": "stream",
     "text": [
      "Running check with dropout =  0\n",
      "Initial loss:  2.3051948273987857\n",
      "W1 relative error: 2.5272575344376073e-07\n",
      "W2 relative error: 1.5034484929313676e-05\n",
      "W3 relative error: 2.753446833630168e-07\n",
      "b1 relative error: 2.936957476400148e-06\n",
      "b2 relative error: 5.051339805546953e-08\n",
      "b3 relative error: 1.1740467838205477e-10\n",
      "\n",
      "\n",
      "Running check with dropout =  0.25\n",
      "Initial loss:  2.3126468345657742\n",
      "W1 relative error: 1.483854795975875e-08\n",
      "W2 relative error: 2.3427832149940254e-10\n",
      "W3 relative error: 3.564454999162522e-08\n",
      "b1 relative error: 1.5292167232408546e-09\n",
      "b2 relative error: 1.842268868410678e-10\n",
      "b3 relative error: 8.701800136729388e-11\n",
      "\n",
      "\n",
      "Running check with dropout =  0.5\n",
      "Initial loss:  2.302437587710995\n",
      "W1 relative error: 4.553387957138422e-08\n",
      "W2 relative error: 2.974218050584597e-08\n",
      "W3 relative error: 4.3413247403122424e-07\n",
      "b1 relative error: 1.872462967441693e-08\n",
      "b2 relative error: 5.045591219274328e-09\n",
      "b3 relative error: 7.487013797161614e-11\n",
      "\n",
      "\n"
     ]
    }
   ],
   "source": [
    "N, D, H1, H2, C = 2, 15, 20, 30, 10\n",
    "X = np.random.randn(N, D)\n",
    "y = np.random.randint(C, size=(N,))\n",
    "\n",
    "for dropout in [0, 0.25, 0.5]:\n",
    "  print('Running check with dropout = ', dropout)\n",
    "  model = FullyConnectedNet([H1, H2], input_dim=D, num_classes=C,\n",
    "                            weight_scale=5e-2, dtype=np.float64,\n",
    "                            dropout=dropout, seed=123)\n",
    "\n",
    "  loss, grads = model.loss(X, y)\n",
    "  print('Initial loss: ', loss)\n",
    "\n",
    "  for name in sorted(grads):\n",
    "    f = lambda _: model.loss(X, y)[0]\n",
    "    grad_num = eval_numerical_gradient(f, model.params[name], verbose=False, h=1e-5)\n",
    "    print('{} relative error: {}'.format(name, rel_error(grad_num, grads[name])))\n",
    "  print('\\n')"
   ]
  },
  {
   "cell_type": "markdown",
   "metadata": {},
   "source": [
    "## Dropout as a regularizer\n",
    "\n",
    "In class, we claimed that dropout acts as a regularizer by effectively bagging.  To check this, we will train two small networks, one with dropout and one without dropout.  "
   ]
  },
  {
   "cell_type": "code",
   "execution_count": 6,
   "metadata": {},
   "outputs": [
    {
     "name": "stdout",
     "output_type": "stream",
     "text": [
      "(Iteration 1 / 125) loss: 2.300804\n",
      "(Epoch 0 / 25) train acc: 0.220000; val_acc: 0.168000\n",
      "(Epoch 1 / 25) train acc: 0.188000; val_acc: 0.147000\n",
      "(Epoch 2 / 25) train acc: 0.266000; val_acc: 0.200000\n",
      "(Epoch 3 / 25) train acc: 0.338000; val_acc: 0.262000\n",
      "(Epoch 4 / 25) train acc: 0.378000; val_acc: 0.278000\n",
      "(Epoch 5 / 25) train acc: 0.428000; val_acc: 0.297000\n",
      "(Epoch 6 / 25) train acc: 0.468000; val_acc: 0.323000\n",
      "(Epoch 7 / 25) train acc: 0.494000; val_acc: 0.287000\n",
      "(Epoch 8 / 25) train acc: 0.566000; val_acc: 0.328000\n",
      "(Epoch 9 / 25) train acc: 0.572000; val_acc: 0.322000\n",
      "(Epoch 10 / 25) train acc: 0.622000; val_acc: 0.324000\n",
      "(Epoch 11 / 25) train acc: 0.670000; val_acc: 0.279000\n",
      "(Epoch 12 / 25) train acc: 0.710000; val_acc: 0.338000\n",
      "(Epoch 13 / 25) train acc: 0.746000; val_acc: 0.319000\n",
      "(Epoch 14 / 25) train acc: 0.792000; val_acc: 0.307000\n",
      "(Epoch 15 / 25) train acc: 0.834000; val_acc: 0.297000\n",
      "(Epoch 16 / 25) train acc: 0.876000; val_acc: 0.327000\n",
      "(Epoch 17 / 25) train acc: 0.886000; val_acc: 0.320000\n",
      "(Epoch 18 / 25) train acc: 0.918000; val_acc: 0.314000\n",
      "(Epoch 19 / 25) train acc: 0.922000; val_acc: 0.290000\n",
      "(Epoch 20 / 25) train acc: 0.944000; val_acc: 0.306000\n",
      "(Iteration 101 / 125) loss: 0.156105\n",
      "(Epoch 21 / 25) train acc: 0.968000; val_acc: 0.302000\n",
      "(Epoch 22 / 25) train acc: 0.978000; val_acc: 0.302000\n",
      "(Epoch 23 / 25) train acc: 0.976000; val_acc: 0.289000\n",
      "(Epoch 24 / 25) train acc: 0.986000; val_acc: 0.285000\n",
      "(Epoch 25 / 25) train acc: 0.978000; val_acc: 0.311000\n",
      "(Iteration 1 / 125) loss: 2.301328\n",
      "(Epoch 0 / 25) train acc: 0.154000; val_acc: 0.143000\n",
      "(Epoch 1 / 25) train acc: 0.214000; val_acc: 0.195000\n",
      "(Epoch 2 / 25) train acc: 0.252000; val_acc: 0.216000\n",
      "(Epoch 3 / 25) train acc: 0.276000; val_acc: 0.200000\n",
      "(Epoch 4 / 25) train acc: 0.308000; val_acc: 0.254000\n",
      "(Epoch 5 / 25) train acc: 0.316000; val_acc: 0.241000\n",
      "(Epoch 6 / 25) train acc: 0.322000; val_acc: 0.282000\n",
      "(Epoch 7 / 25) train acc: 0.354000; val_acc: 0.273000\n",
      "(Epoch 8 / 25) train acc: 0.364000; val_acc: 0.276000\n",
      "(Epoch 9 / 25) train acc: 0.408000; val_acc: 0.282000\n",
      "(Epoch 10 / 25) train acc: 0.454000; val_acc: 0.302000\n",
      "(Epoch 11 / 25) train acc: 0.472000; val_acc: 0.296000\n",
      "(Epoch 12 / 25) train acc: 0.496000; val_acc: 0.318000\n",
      "(Epoch 13 / 25) train acc: 0.512000; val_acc: 0.310000\n",
      "(Epoch 14 / 25) train acc: 0.532000; val_acc: 0.318000\n",
      "(Epoch 15 / 25) train acc: 0.558000; val_acc: 0.331000\n",
      "(Epoch 16 / 25) train acc: 0.574000; val_acc: 0.300000\n",
      "(Epoch 17 / 25) train acc: 0.624000; val_acc: 0.324000\n",
      "(Epoch 18 / 25) train acc: 0.610000; val_acc: 0.325000\n",
      "(Epoch 19 / 25) train acc: 0.620000; val_acc: 0.327000\n",
      "(Epoch 20 / 25) train acc: 0.662000; val_acc: 0.340000\n",
      "(Iteration 101 / 125) loss: 1.296187\n",
      "(Epoch 21 / 25) train acc: 0.688000; val_acc: 0.323000\n",
      "(Epoch 22 / 25) train acc: 0.708000; val_acc: 0.323000\n",
      "(Epoch 23 / 25) train acc: 0.742000; val_acc: 0.345000\n",
      "(Epoch 24 / 25) train acc: 0.756000; val_acc: 0.325000\n",
      "(Epoch 25 / 25) train acc: 0.782000; val_acc: 0.348000\n"
     ]
    }
   ],
   "source": [
    "# Train two identical nets, one with dropout and one without\n",
    "\n",
    "num_train = 500\n",
    "small_data = {\n",
    "  'X_train': data['X_train'][:num_train],\n",
    "  'y_train': data['y_train'][:num_train],\n",
    "  'X_val': data['X_val'],\n",
    "  'y_val': data['y_val'],\n",
    "}\n",
    "\n",
    "solvers = {}\n",
    "dropout_choices = [0, 0.6]\n",
    "for dropout in dropout_choices:\n",
    "  model = FullyConnectedNet([100, 100, 100], dropout=dropout)\n",
    "\n",
    "  solver = Solver(model, small_data,\n",
    "                  num_epochs=25, batch_size=100,\n",
    "                  update_rule='adam',\n",
    "                  optim_config={\n",
    "                    'learning_rate': 5e-4,\n",
    "                  },\n",
    "                  verbose=True, print_every=100)\n",
    "  solver.train()\n",
    "  solvers[dropout] = solver"
   ]
  },
  {
   "cell_type": "code",
   "execution_count": 7,
   "metadata": {},
   "outputs": [
    {
     "data": {
      "image/png": "[encoded data removed]",
      "text/plain": [
       "<Figure size 1080x1080 with 2 Axes>"
      ]
     },
     "metadata": {
      "needs_background": "light"
     },
     "output_type": "display_data"
    }
   ],
   "source": [
    "# Plot train and validation accuracies of the two models\n",
    "\n",
    "train_accs = []\n",
    "val_accs = []\n",
    "for dropout in dropout_choices:\n",
    "  solver = solvers[dropout]\n",
    "  train_accs.append(solver.train_acc_history[-1])\n",
    "  val_accs.append(solver.val_acc_history[-1])\n",
    "\n",
    "plt.subplot(3, 1, 1)\n",
    "for dropout in dropout_choices:\n",
    "  plt.plot(solvers[dropout].train_acc_history, 'o', label='%.2f dropout' % dropout)\n",
    "plt.title('Train accuracy')\n",
    "plt.xlabel('Epoch')\n",
    "plt.ylabel('Accuracy')\n",
    "plt.legend(ncol=2, loc='lower right')\n",
    "  \n",
    "plt.subplot(3, 1, 2)\n",
    "for dropout in dropout_choices:\n",
    "  plt.plot(solvers[dropout].val_acc_history, 'o', label='%.2f dropout' % dropout)\n",
    "plt.title('Val accuracy')\n",
    "plt.xlabel('Epoch')\n",
    "plt.ylabel('Accuracy')\n",
    "plt.legend(ncol=2, loc='lower right')\n",
    "\n",
    "plt.gcf().set_size_inches(15, 15)\n",
    "plt.show()"
   ]
  },
  {
   "cell_type": "markdown",
   "metadata": {},
   "source": [
    "## Question\n",
    "\n",
    "Based off the results of this experiment, is dropout performing regularization?  Explain your answer."
   ]
  },
  {
   "cell_type": "markdown",
   "metadata": {},
   "source": [
    "## Answer:\n",
    "\n",
    "Yes. From the accuracy figure we can find out the overfitting is reduced during the training."
   ]
  },
  {
   "cell_type": "markdown",
   "metadata": {},
   "source": [
    "## Final part of the assignment\n",
    "\n",
    "Get over 55% validation accuracy on CIFAR-10 by using the layers you have implemented.  You will be graded according to the following equation:\n",
    "\n",
    "min(floor((X - 32%)) / 28%, 1) \n",
    "where if you get 60% or higher validation accuracy, you get full points."
   ]
  },
  {
   "cell_type": "code",
   "execution_count": 14,
   "metadata": {
    "scrolled": false
   },
   "outputs": [
    {
     "name": "stdout",
     "output_type": "stream",
     "text": [
      "(Iteration 1 / 39200) loss: 46.232648\n",
      "(Epoch 0 / 80) train acc: 0.110000; val_acc: 0.103000\n",
      "(Epoch 1 / 80) train acc: 0.113000; val_acc: 0.108000\n",
      "(Epoch 2 / 80) train acc: 0.110000; val_acc: 0.093000\n",
      "(Iteration 1001 / 39200) loss: 3.014885\n",
      "(Epoch 3 / 80) train acc: 0.115000; val_acc: 0.147000\n",
      "(Epoch 4 / 80) train acc: 0.162000; val_acc: 0.142000\n",
      "(Iteration 2001 / 39200) loss: 2.723789\n",
      "(Epoch 5 / 80) train acc: 0.134000; val_acc: 0.162000\n",
      "(Epoch 6 / 80) train acc: 0.153000; val_acc: 0.191000\n",
      "(Iteration 3001 / 39200) loss: 2.652701\n",
      "(Epoch 7 / 80) train acc: 0.148000; val_acc: 0.152000\n",
      "(Epoch 8 / 80) train acc: 0.098000; val_acc: 0.127000\n",
      "(Iteration 4001 / 39200) loss: 2.612825\n",
      "(Epoch 9 / 80) train acc: 0.177000; val_acc: 0.201000\n",
      "(Epoch 10 / 80) train acc: 0.197000; val_acc: 0.213000\n",
      "(Iteration 5001 / 39200) loss: 2.430625\n",
      "(Epoch 11 / 80) train acc: 0.212000; val_acc: 0.230000\n",
      "(Epoch 12 / 80) train acc: 0.226000; val_acc: 0.220000\n",
      "(Iteration 6001 / 39200) loss: 2.290217\n",
      "(Epoch 13 / 80) train acc: 0.241000; val_acc: 0.241000\n",
      "(Epoch 14 / 80) train acc: 0.239000; val_acc: 0.226000\n",
      "(Iteration 7001 / 39200) loss: 2.184822\n",
      "(Epoch 15 / 80) train acc: 0.201000; val_acc: 0.206000\n",
      "(Epoch 16 / 80) train acc: 0.210000; val_acc: 0.211000\n",
      "(Iteration 8001 / 39200) loss: 2.272797\n",
      "(Epoch 17 / 80) train acc: 0.224000; val_acc: 0.254000\n",
      "(Epoch 18 / 80) train acc: 0.228000; val_acc: 0.268000\n",
      "(Iteration 9001 / 39200) loss: 2.373723\n",
      "(Epoch 19 / 80) train acc: 0.292000; val_acc: 0.248000\n",
      "(Epoch 20 / 80) train acc: 0.260000; val_acc: 0.288000\n",
      "(Iteration 10001 / 39200) loss: 2.112414\n",
      "(Epoch 21 / 80) train acc: 0.282000; val_acc: 0.312000\n",
      "(Epoch 22 / 80) train acc: 0.312000; val_acc: 0.305000\n",
      "(Iteration 11001 / 39200) loss: 1.991591\n",
      "(Epoch 23 / 80) train acc: 0.356000; val_acc: 0.354000\n",
      "(Epoch 24 / 80) train acc: 0.351000; val_acc: 0.364000\n",
      "(Iteration 12001 / 39200) loss: 2.046677\n",
      "(Epoch 25 / 80) train acc: 0.380000; val_acc: 0.392000\n",
      "(Epoch 26 / 80) train acc: 0.358000; val_acc: 0.375000\n",
      "(Iteration 13001 / 39200) loss: 1.991193\n",
      "(Epoch 27 / 80) train acc: 0.372000; val_acc: 0.373000\n",
      "(Epoch 28 / 80) train acc: 0.355000; val_acc: 0.366000\n",
      "(Iteration 14001 / 39200) loss: 2.086809\n",
      "(Epoch 29 / 80) train acc: 0.386000; val_acc: 0.382000\n",
      "(Epoch 30 / 80) train acc: 0.377000; val_acc: 0.382000\n",
      "(Iteration 15001 / 39200) loss: 1.972225\n",
      "(Epoch 31 / 80) train acc: 0.383000; val_acc: 0.385000\n",
      "(Epoch 32 / 80) train acc: 0.377000; val_acc: 0.398000\n",
      "(Iteration 16001 / 39200) loss: 2.031859\n",
      "(Epoch 33 / 80) train acc: 0.397000; val_acc: 0.415000\n",
      "(Epoch 34 / 80) train acc: 0.380000; val_acc: 0.397000\n",
      "(Iteration 17001 / 39200) loss: 1.904531\n",
      "(Epoch 35 / 80) train acc: 0.403000; val_acc: 0.429000\n",
      "(Epoch 36 / 80) train acc: 0.418000; val_acc: 0.402000\n",
      "(Iteration 18001 / 39200) loss: 1.916423\n",
      "(Epoch 37 / 80) train acc: 0.404000; val_acc: 0.430000\n",
      "(Epoch 38 / 80) train acc: 0.426000; val_acc: 0.424000\n",
      "(Iteration 19001 / 39200) loss: 2.013001\n",
      "(Epoch 39 / 80) train acc: 0.428000; val_acc: 0.434000\n",
      "(Epoch 40 / 80) train acc: 0.417000; val_acc: 0.442000\n",
      "(Iteration 20001 / 39200) loss: 1.817271\n",
      "(Epoch 41 / 80) train acc: 0.452000; val_acc: 0.457000\n",
      "(Epoch 42 / 80) train acc: 0.437000; val_acc: 0.462000\n",
      "(Iteration 21001 / 39200) loss: 1.929943\n",
      "(Epoch 43 / 80) train acc: 0.477000; val_acc: 0.453000\n",
      "(Epoch 44 / 80) train acc: 0.409000; val_acc: 0.435000\n",
      "(Iteration 22001 / 39200) loss: 1.891632\n",
      "(Epoch 45 / 80) train acc: 0.449000; val_acc: 0.457000\n",
      "(Epoch 46 / 80) train acc: 0.451000; val_acc: 0.449000\n",
      "(Iteration 23001 / 39200) loss: 1.834037\n",
      "(Epoch 47 / 80) train acc: 0.435000; val_acc: 0.456000\n",
      "(Epoch 48 / 80) train acc: 0.465000; val_acc: 0.483000\n",
      "(Iteration 24001 / 39200) loss: 1.838202\n",
      "(Epoch 49 / 80) train acc: 0.472000; val_acc: 0.442000\n",
      "(Epoch 50 / 80) train acc: 0.486000; val_acc: 0.473000\n",
      "(Epoch 51 / 80) train acc: 0.479000; val_acc: 0.483000\n",
      "(Iteration 25001 / 39200) loss: 1.853627\n",
      "(Epoch 52 / 80) train acc: 0.447000; val_acc: 0.462000\n",
      "(Epoch 53 / 80) train acc: 0.501000; val_acc: 0.497000\n",
      "(Iteration 26001 / 39200) loss: 1.755954\n",
      "(Epoch 54 / 80) train acc: 0.474000; val_acc: 0.481000\n",
      "(Epoch 55 / 80) train acc: 0.499000; val_acc: 0.495000\n",
      "(Iteration 27001 / 39200) loss: 1.511890\n",
      "(Epoch 56 / 80) train acc: 0.498000; val_acc: 0.499000\n",
      "(Epoch 57 / 80) train acc: 0.499000; val_acc: 0.483000\n",
      "(Iteration 28001 / 39200) loss: 1.661805\n",
      "(Epoch 58 / 80) train acc: 0.479000; val_acc: 0.488000\n",
      "(Epoch 59 / 80) train acc: 0.504000; val_acc: 0.484000\n",
      "(Iteration 29001 / 39200) loss: 1.513723\n",
      "(Epoch 60 / 80) train acc: 0.508000; val_acc: 0.514000\n",
      "(Epoch 61 / 80) train acc: 0.531000; val_acc: 0.517000\n",
      "(Iteration 30001 / 39200) loss: 1.736998\n",
      "(Epoch 62 / 80) train acc: 0.538000; val_acc: 0.497000\n",
      "(Epoch 63 / 80) train acc: 0.512000; val_acc: 0.503000\n",
      "(Iteration 31001 / 39200) loss: 1.556728\n",
      "(Epoch 64 / 80) train acc: 0.548000; val_acc: 0.526000\n",
      "(Epoch 65 / 80) train acc: 0.537000; val_acc: 0.500000\n",
      "(Iteration 32001 / 39200) loss: 1.635866\n",
      "(Epoch 66 / 80) train acc: 0.569000; val_acc: 0.505000\n",
      "(Epoch 67 / 80) train acc: 0.520000; val_acc: 0.517000\n",
      "(Iteration 33001 / 39200) loss: 1.638790\n",
      "(Epoch 68 / 80) train acc: 0.538000; val_acc: 0.514000\n",
      "(Epoch 69 / 80) train acc: 0.531000; val_acc: 0.499000\n",
      "(Iteration 34001 / 39200) loss: 1.528642\n",
      "(Epoch 70 / 80) train acc: 0.586000; val_acc: 0.510000\n",
      "(Epoch 71 / 80) train acc: 0.555000; val_acc: 0.515000\n",
      "(Iteration 35001 / 39200) loss: 1.628689\n",
      "(Epoch 72 / 80) train acc: 0.564000; val_acc: 0.529000\n",
      "(Epoch 73 / 80) train acc: 0.580000; val_acc: 0.514000\n",
      "(Iteration 36001 / 39200) loss: 1.479091\n",
      "(Epoch 74 / 80) train acc: 0.567000; val_acc: 0.522000\n",
      "(Epoch 75 / 80) train acc: 0.582000; val_acc: 0.518000\n",
      "(Iteration 37001 / 39200) loss: 1.654059\n",
      "(Epoch 76 / 80) train acc: 0.592000; val_acc: 0.510000\n",
      "(Epoch 77 / 80) train acc: 0.588000; val_acc: 0.516000\n",
      "(Iteration 38001 / 39200) loss: 1.500045\n",
      "(Epoch 78 / 80) train acc: 0.563000; val_acc: 0.525000\n",
      "(Epoch 79 / 80) train acc: 0.592000; val_acc: 0.542000\n",
      "(Iteration 39001 / 39200) loss: 1.420499\n",
      "(Epoch 80 / 80) train acc: 0.599000; val_acc: 0.526000\n",
      "dropout: 0.8 lr: 0.001 reg: 0.3 weight: 0.01 best_train: 0.599 best_val: 0.542\n"
     ]
    }
   ],
   "source": [
    "# ================================================================ #\n",
    "# YOUR CODE HERE:\n",
    "#   Implement a FC-net that achieves at least 55% validation accuracy\n",
    "#   on CIFAR-10.\n",
    "# ================================================================ #\n",
    "\n",
    "optimizer = 'rmsprop'\n",
    "\n",
    "layer_dims = [600, 600, 600, 600]\n",
    "dropouts = [0.8]#[0.5, 0.6, 0.7, 0.8, 0.9]\n",
    "weight_scales = [1e-2]#[1e-1, 5e-2, 1e-2, 5e-3, 1e-3]\n",
    "learning_rates = [1e-3]#[1e-2, 5e-3, 1e-3, 5e-4, 1e-4]\n",
    "regs = [0.3]#[0.0, 0.1, 0.2, 0.3]\n",
    "lr_decay = 0.95\n",
    "\n",
    "solvers = {}\n",
    "for dropout in dropouts:\n",
    "    for lr in learning_rates:\n",
    "        for reg in regs:\n",
    "            for w in weight_scales:\n",
    "                index = (dropout, lr, reg, w)\n",
    "                model = FullyConnectedNet(layer_dims, \n",
    "                          weight_scale = w,\n",
    "                          dropout = dropout, \n",
    "                          reg = reg,\n",
    "                          use_batchnorm=True)\n",
    "\n",
    "                solver = Solver(model, data,\n",
    "                            num_epochs=80, batch_size=100,\n",
    "                            update_rule=optimizer,\n",
    "                            optim_config={\n",
    "                          'learning_rate': lr,\n",
    "                            },\n",
    "                            lr_decay=lr_decay,\n",
    "                            verbose=True, print_every=1000)\n",
    "\n",
    "                solver.train()\n",
    "                solvers[index] = solver\n",
    "                best_val = np.amax(solvers[index].val_acc_history)\n",
    "                best_train = np.amax(solvers[index].train_acc_history)\n",
    "                print('dropout:', dropout,'lr:',lr,'reg:',reg,'weight:',w,'best_train:',best_train,'best_val:',best_val)\n",
    "\n",
    "\n",
    "# ================================================================ #\n",
    "# END YOUR CODE HERE\n",
    "# ================================================================ #\n"
   ]
  },
  {
   "cell_type": "code",
   "execution_count": null,
   "metadata": {},
   "outputs": [],
   "source": []
  }
 ],
 "metadata": {
  "@webio": {
   "lastCommId": null,
   "lastKernelId": null
  },
  "kernelspec": {
   "display_name": "Python 3",
   "language": "python",
   "name": "python3"
  },
  "language_info": {
   "codemirror_mode": {
    "name": "ipython",
    "version": 3
   },
   "file_extension": ".py",
   "mimetype": "text/x-python",
   "name": "python",
   "nbconvert_exporter": "python",
   "pygments_lexer": "ipython3",
   "version": "3.9.1"
  }
 },
 "nbformat": 4,
 "nbformat_minor": 2
}
